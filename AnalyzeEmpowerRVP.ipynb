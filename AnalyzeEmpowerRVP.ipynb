{
 "cells": [
  {
   "cell_type": "code",
   "execution_count": 1,
   "metadata": {},
   "outputs": [],
   "source": [
    "import pandas as pd #noqa: F401\n",
    "import numpy as np #noqa: F401\n",
    "\n",
    "import datetime\n",
    "from datetime import datetime  ###, timedelta, timezone\n",
    "import phonenumbers\n",
    "\n",
    "## names and eids of organizers who are no longer with us\n",
    "from departed import departed_eids, departed_names\n",
    "\n",
    "## profile-<date>.csv is a dump of the Empower data.  I store these on the N: drive\n",
    "today = '24-9-24'\n",
    "home = 'N:/'\n",
    "path = home + 'Al/RelationalVoterProgram/Python/ReadEmpowerData_2024/'\n",
    "data_file = 'Profiles/profiles-' + today + '.csv'\n",
    "\n",
    "## or sometimes I keep them locally...\n",
    "# home = 'C:/'\n",
    "# path = home + 'Users/nicho/Downloads/'\n",
    "# data_file = 'profiles-' + today + '.csv'\n",
    "\n",
    "organizers = ['Director', 'Organizer', 'Volunteer']\n",
    "contacts = ['Contact']\n",
    "regions = ['Green Bay', 'Kenosha', 'Racine', 'Madison', 'Milwaukee', 'Manitowoc', 'Sheboygan',\n",
    "    'Walworth', 'Waukesha', 'Unknown Region']\n",
    "\n",
    "import sys\n",
    "sys.path.append('../Common')\n",
    "## helper functions for data cleaning\n",
    "from edatools import InitializeDataFrames, CleanPhone, SplitTime, beginningOfTime #noqa: F401\n",
    "from edatools import ColumnMove, IsBlank, IsNotBlank #noqa: F40"
   ]
  },
  {
   "cell_type": "code",
   "execution_count": null,
   "metadata": {},
   "outputs": [],
   "source": [
    "## download the data\n",
    "data = InitializeDataFrames(path, data_file, {})\n",
    "if not data.empty:\n",
    "    print('Loaded', len(data), 'records.')\n",
    "\n",
    "data['Created At'] = data['Created At'].apply(lambda x : SplitTime(x)) \n",
    "data['Last Used Empower At'] = data['Last Used Empower At'].apply(lambda x : SplitTime(x)) \n",
    "data.drop(columns=['Address Line 2'], inplace=True)\n",
    "data.fillna({'First Name':' ', 'Last Name': ' ', 'Parent EID':' '},  inplace=True)\n",
    "data = CleanPhone(data, phone_column='Phone')\n",
    "print(\"Cleanup complete.\")"
   ]
  },
  {
   "cell_type": "code",
   "execution_count": null,
   "metadata": {},
   "outputs": [],
   "source": [
    "columns_to_keep = ['Parent EID', 'EID', 'Role','First Name', 'Last Name', \n",
    "    'Phone', 'Created At','Last Used Empower At']\n",
    "\n",
    "## subset the leaders and the contacts\n",
    "leaders = data.loc[data['Role'].isin(organizers)]\n",
    "contacts = data.loc[data['Role'].isin(contacts)]\n",
    "\n",
    "## over the years, many leaders signed onto the system once and never did anything. We want to consider only\n",
    "## people who signed on at least twice, so their last use date is later than their start date.\n",
    "print('initial leader count:', len(leaders))\n",
    "activated_leaders = leaders.loc[leaders['Last Used Empower At'] > leaders['Created At']]\n",
    "print('activated leader count:', len(activated_leaders))\n",
    "\n",
    "## we only want to consider people for whom we have a phone number we can call\n",
    "mask = activated_leaders['Phone'].apply(lambda x : IsNotBlank(x))\n",
    "reachable_activated_leaders = activated_leaders[mask]\n",
    "print('total reachable activated leader count:', len(reachable_activated_leaders))\n",
    "\n",
    "reachable_activated_leaders = reachable_activated_leaders[columns_to_keep]\n",
    "reachable_activated_leaders.rename(columns={'Parent EID': 'ParentEID', 'First Name': 'FirstName', \n",
    "    'Last Name': 'LastName', 'Created At': 'CreatedAt', 'Last Used Empower At': 'LastUsedEmpowerAt'}, inplace=True)\n",
    "\n",
    "## subset directors, organizers, and volunteers\n",
    "reachable_directors = reachable_activated_leaders.loc[reachable_activated_leaders['Role'] == 'Director']\n",
    "print('reachable activated director count:', len(reachable_directors))\n",
    "reachable_organizers = reachable_activated_leaders.loc[reachable_activated_leaders['Role'] == 'Organizer']\n",
    "print('reachable activated organizer count:', len(reachable_organizers))\n",
    "reachable_volunteers = reachable_activated_leaders.loc[reachable_activated_leaders['Role'] == 'Volunteer']\n",
    "print('reachable activated volunteer count:', len(reachable_volunteers))\n"
   ]
  },
  {
   "cell_type": "code",
   "execution_count": 4,
   "metadata": {},
   "outputs": [],
   "source": [
    "parent_names = []\n",
    "parent_roles = []\n",
    "full_names = []\n",
    "for row in reachable_activated_leaders.itertuples():\n",
    "    parent_eid = row.ParentEID\n",
    "    full_name = row.FirstName + ' ' + row.LastName\n",
    "    parent_data = data.loc[data['EID'] == parent_eid]\n",
    "    try:\n",
    "        parent_name = parent_data['First Name'].values[0] + ' ' + parent_data['Last Name'].values[0]\n",
    "        parent_role = parent_data['Role'].values[0]\n",
    "    except (ValueError, IndexError):\n",
    "        parent_name = \" \"\n",
    "        parent_role = \" \"\n",
    "    parent_names.append(parent_name)\n",
    "    parent_roles.append(parent_role)\n",
    "    full_names.append(full_name)\n",
    "    \n",
    "reachable_activated_leaders['ParentName'] = parent_names\n",
    "reachable_activated_leaders['ParentRole'] = parent_roles\n",
    "reachable_activated_leaders['FullName'] = full_names\n",
    "reachable_activated_leaders = ColumnMove(reachable_activated_leaders, 'ParentRole', 1)\n",
    "reachable_activated_leaders = ColumnMove(reachable_activated_leaders, 'ParentName', 2)\n",
    "reachable_activated_leaders = ColumnMove(reachable_activated_leaders, 'FullName', 5)\n",
    "reachable_activated_leaders.drop(columns=['FirstName', 'LastName'], inplace=True)\n",
    "reachable_activated_leaders.sort_values(by=['Role','LastUsedEmpowerAt'], ascending = [True, False], inplace=True)\n",
    "reachable_activated_leaders.reset_index(drop=True, inplace=True)"
   ]
  },
  {
   "cell_type": "code",
   "execution_count": 5,
   "metadata": {},
   "outputs": [],
   "source": [
    "multi = reachable_activated_leaders.set_index(['ParentRole','ParentEID','ParentName']).sort_values(by = ['ParentRole','ParentName', 'LastUsedEmpowerAt'], ascending = [True, True, False])"
   ]
  },
  {
   "cell_type": "code",
   "execution_count": 6,
   "metadata": {},
   "outputs": [],
   "source": [
    "\n",
    "def highlight_cells(s):\n",
    "    return \"background-color: yellow;\" if s in departed_eids or s.strip() in departed_names else \"\"\n",
    "\n",
    "with pd.ExcelWriter('test.xlsx' ) as writer:\n",
    "    workbook = writer.book\n",
    "    worksheet = workbook.create_sheet('Sheet1')\n",
    "    multi.style.map_index(highlight_cells, axis = 'index', level = [1,2] ).to_excel(writer, \"Sheet1\",  engine='xlsxwriter')"
   ]
  }
 ],
 "metadata": {
  "kernelspec": {
   "display_name": "heroku_env",
   "language": "python",
   "name": "python3"
  },
  "language_info": {
   "codemirror_mode": {
    "name": "ipython",
    "version": 3
   },
   "file_extension": ".py",
   "mimetype": "text/x-python",
   "name": "python",
   "nbconvert_exporter": "python",
   "pygments_lexer": "ipython3",
   "version": "3.12.3"
  }
 },
 "nbformat": 4,
 "nbformat_minor": 2
}
